{
 "cells": [
  {
   "cell_type": "code",
   "execution_count": 7,
   "metadata": {},
   "outputs": [],
   "source": [
    "import os\n",
    "import numpy as np\n",
    "import pandas as pd\n",
    "import math\n",
    "from sklearn import metrics\n",
    "# from imblearn.metrics import specificity_score\n",
    "# from utils import makedir\n",
    "import re\n",
    "from sklearn.preprocessing import MinMaxScaler\n",
    "\n",
    "#Model \n",
    "import torch\n",
    "import torch.nn as nn                     # general structure of a net \n",
    "from torch.nn.parameter import Parameter  # for weights and bias\n",
    "import torch.nn.functional as F           # for Relu\n",
    "from torch.autograd import Variable\n",
    "from torch.utils.data import Dataset, DataLoader # to data loader\n",
    "#from torch.utils import data\n",
    "import torch.optim as optim\n",
    "\n",
    "import json                              # import data from json file\n",
    "import argparse\n",
    "import ipdb\n",
    "from src.methods.brits.lightningmodule import BRITSLightningModule\n",
    "from src.methods.brits.modules import MultiTaskBRITS\n",
    "from multitask_missing_q10_ours import Model_brits_att\n",
    "\n",
    " # Hyperparameters \n",
    "SEQ_LEN = 40                           # number of period in the ts, t = 1, 2, 3, 4, 5.\n",
    "RNN_HID_SIZE = 32                     # hidden node of the rnn \n",
    "batch_size = 32\n",
    "model_name = 'BRITS_ATT' # RITS\n",
    "question = 'feeling_lately'\n",
    "open_face = 'eye_gaze'\n",
    "epochs = 100\n",
    "#N_SERIES = 12                          # number of series Rd, 12:eye, 136:landmark,14:action unit\n",
    "lr = 1e-3\n",
    "repetitions = 5\n",
    "ratio_missing = 0.05\n",
    "type_missing = 'Random' # CMV\n",
    "rnn_name = 'GRU' # GRU\n",
    "experiment_name = '777'\n",
    "\n",
    "if open_face=='action_unit':\n",
    "    N_SERIES = 14  # 14, for action unit\n",
    "elif open_face=='eye_gaze':\n",
    "    N_SERIES = 12\n",
    "elif open_face=='landmark':\n",
    "    N_SERIES = 136\n",
    "elif open_face=='all':\n",
    "    N_SERIES = (14+12+136)"
   ]
  },
  {
   "cell_type": "code",
   "execution_count": 4,
   "metadata": {},
   "outputs": [],
   "source": [
    "from src.datamodules.daicwoz import DAICWOZDatamodule\n",
    "\n",
    "dm = DAICWOZDatamodule(\n",
    "    label='phq8',\n",
    "    question=question,\n",
    "    open_face=open_face,\n",
    "    delta_steps=1,\n",
    "    delta_average=False,\n",
    "    regen=True,\n",
    "    ratio_missing=ratio_missing,\n",
    "    type_missing=type_missing,\n",
    "    batch_size=batch_size,\n",
    "    num_workers=1,\n",
    "    ricardo=False,\n",
    "    val_ratio=0.2\n",
    ")\n",
    "dm.prepare_data()\n",
    "dm.setup()\n",
    "dm_train = dm.train_dataloader()\n",
    "dm_val = dm.val_dataloader()"
   ]
  },
  {
   "cell_type": "code",
   "execution_count": 8,
   "metadata": {},
   "outputs": [
    {
     "ename": "NameError",
     "evalue": "name 'N_SERIES' is not defined",
     "output_type": "error",
     "traceback": [
      "\u001b[0;31m---------------------------------------------------------------------------\u001b[0m",
      "\u001b[0;31mNameError\u001b[0m                                 Traceback (most recent call last)",
      "Cell \u001b[0;32mIn[8], line 1\u001b[0m\n\u001b[0;32m----> 1\u001b[0m model_ric \u001b[38;5;241m=\u001b[39m \u001b[43mModel_brits_att\u001b[49m\u001b[43m(\u001b[49m\u001b[43mrnn_name\u001b[49m\u001b[38;5;241;43m=\u001b[39;49m\u001b[43mrnn_name\u001b[49m\u001b[43m)\u001b[49m\n\u001b[1;32m      2\u001b[0m optimizer_ric \u001b[38;5;241m=\u001b[39m optim\u001b[38;5;241m.\u001b[39mAdam(model_ric\u001b[38;5;241m.\u001b[39mparameters(), lr \u001b[38;5;241m=\u001b[39m lr)\n",
      "File \u001b[0;32m~/test_impute/multitask_missing_q10_ours.py:405\u001b[0m, in \u001b[0;36mModel_brits_att.__init__\u001b[0;34m(self, rnn_name)\u001b[0m\n\u001b[1;32m    403\u001b[0m \u001b[38;5;28msuper\u001b[39m(Model_brits_att, \u001b[38;5;28mself\u001b[39m)\u001b[38;5;241m.\u001b[39m\u001b[38;5;21m__init__\u001b[39m()\n\u001b[1;32m    404\u001b[0m \u001b[38;5;28mself\u001b[39m\u001b[38;5;241m.\u001b[39mrnn_name \u001b[38;5;241m=\u001b[39m rnn_name\n\u001b[0;32m--> 405\u001b[0m \u001b[38;5;28;43mself\u001b[39;49m\u001b[38;5;241;43m.\u001b[39;49m\u001b[43mbuild\u001b[49m\u001b[43m(\u001b[49m\u001b[43m)\u001b[49m\n",
      "File \u001b[0;32m~/test_impute/multitask_missing_q10_ours.py:408\u001b[0m, in \u001b[0;36mModel_brits_att.build\u001b[0;34m(self)\u001b[0m\n\u001b[1;32m    407\u001b[0m \u001b[38;5;28;01mdef\u001b[39;00m \u001b[38;5;21mbuild\u001b[39m(\u001b[38;5;28mself\u001b[39m):\n\u001b[0;32m--> 408\u001b[0m     \u001b[38;5;28mself\u001b[39m\u001b[38;5;241m.\u001b[39mrits_f \u001b[38;5;241m=\u001b[39m \u001b[43mModel_rits_att\u001b[49m\u001b[43m(\u001b[49m\u001b[38;5;28;43mself\u001b[39;49m\u001b[38;5;241;43m.\u001b[39;49m\u001b[43mrnn_name\u001b[49m\u001b[43m)\u001b[49m\n\u001b[1;32m    409\u001b[0m     \u001b[38;5;28mself\u001b[39m\u001b[38;5;241m.\u001b[39mrits_b \u001b[38;5;241m=\u001b[39m Model_rits_att(\u001b[38;5;28mself\u001b[39m\u001b[38;5;241m.\u001b[39mrnn_name)\n",
      "File \u001b[0;32m~/test_impute/multitask_missing_q10_ours.py:277\u001b[0m, in \u001b[0;36mModel_rits_att.__init__\u001b[0;34m(self, rnn_name)\u001b[0m\n\u001b[1;32m    275\u001b[0m \u001b[38;5;28msuper\u001b[39m(Model_rits_att, \u001b[38;5;28mself\u001b[39m)\u001b[38;5;241m.\u001b[39m\u001b[38;5;21m__init__\u001b[39m()\n\u001b[1;32m    276\u001b[0m \u001b[38;5;28mself\u001b[39m\u001b[38;5;241m.\u001b[39mrnn_name \u001b[38;5;241m=\u001b[39m rnn_name\n\u001b[0;32m--> 277\u001b[0m \u001b[38;5;28;43mself\u001b[39;49m\u001b[38;5;241;43m.\u001b[39;49m\u001b[43mbuild\u001b[49m\u001b[43m(\u001b[49m\u001b[43m)\u001b[49m\n\u001b[1;32m    279\u001b[0m \u001b[38;5;66;03m# Attention following AudiBert \u001b[39;00m\n\u001b[1;32m    280\u001b[0m \u001b[38;5;28mself\u001b[39m\u001b[38;5;241m.\u001b[39mW_s1 \u001b[38;5;241m=\u001b[39m nn\u001b[38;5;241m.\u001b[39mLinear(RNN_HID_SIZE, \u001b[38;5;241m350\u001b[39m)\n",
      "File \u001b[0;32m~/test_impute/multitask_missing_q10_ours.py:286\u001b[0m, in \u001b[0;36mModel_rits_att.build\u001b[0;34m(self)\u001b[0m\n\u001b[1;32m    284\u001b[0m     \u001b[38;5;28mself\u001b[39m\u001b[38;5;241m.\u001b[39mrnn_cell \u001b[38;5;241m=\u001b[39m nn\u001b[38;5;241m.\u001b[39mLSTMCell(N_SERIES \u001b[38;5;241m*\u001b[39m \u001b[38;5;241m2\u001b[39m, RNN_HID_SIZE)\n\u001b[1;32m    285\u001b[0m \u001b[38;5;28;01melif\u001b[39;00m \u001b[38;5;28mself\u001b[39m\u001b[38;5;241m.\u001b[39mrnn_name\u001b[38;5;241m==\u001b[39m\u001b[38;5;124m'\u001b[39m\u001b[38;5;124mGRU\u001b[39m\u001b[38;5;124m'\u001b[39m:\n\u001b[0;32m--> 286\u001b[0m     \u001b[38;5;28mself\u001b[39m\u001b[38;5;241m.\u001b[39mrnn_cell \u001b[38;5;241m=\u001b[39m nn\u001b[38;5;241m.\u001b[39mGRUCell(\u001b[43mN_SERIES\u001b[49m \u001b[38;5;241m*\u001b[39m \u001b[38;5;241m2\u001b[39m, RNN_HID_SIZE)\n\u001b[1;32m    288\u001b[0m \u001b[38;5;28mself\u001b[39m\u001b[38;5;241m.\u001b[39mtemp_decay_h \u001b[38;5;241m=\u001b[39m TemporalDecay(input_size \u001b[38;5;241m=\u001b[39m N_SERIES, output_size \u001b[38;5;241m=\u001b[39m RNN_HID_SIZE, diag \u001b[38;5;241m=\u001b[39m \u001b[38;5;28;01mFalse\u001b[39;00m)\n\u001b[1;32m    289\u001b[0m \u001b[38;5;28mself\u001b[39m\u001b[38;5;241m.\u001b[39mtemp_decay_x \u001b[38;5;241m=\u001b[39m TemporalDecay(input_size \u001b[38;5;241m=\u001b[39m N_SERIES, output_size \u001b[38;5;241m=\u001b[39m N_SERIES, diag \u001b[38;5;241m=\u001b[39m \u001b[38;5;28;01mTrue\u001b[39;00m)\n",
      "\u001b[0;31mNameError\u001b[0m: name 'N_SERIES' is not defined"
     ]
    }
   ],
   "source": [
    "model_ric = Model_brits_att(rnn_name=rnn_name)\n",
    "optimizer_ric = optim.Adam(model_ric.parameters(), lr = lr)"
   ]
  },
  {
   "cell_type": "code",
   "execution_count": null,
   "metadata": {},
   "outputs": [],
   "source": [
    "for epoch in range(epochs):\n",
    "    model_ric.train()\n",
    "\n",
    "    run_loss = 0.0\n",
    "\n",
    "    for idx, (data, batch) in enumerate(zip(dm_train, data_iter)):\n",
    "        params_type = next(iter(model_ric.parameters()))\n",
    "\n",
    "        batch['forward']['values'] = data['X'].type_as(params_type)\n",
    "        batch['forward']['masks'] = data['missing_mask'].type_as(params_type)\n",
    "        batch['forward']['deltas'] = data['deltas'].type_as(params_type)\n",
    "        batch['forward']['evals'] = data['X_ori'].type_as(params_type)\n",
    "        batch['forward']['eval_masks'] = data['indicating_mask'].type_as(params_type)\n",
    "\n",
    "        batch['backward']['values'] = data['back_X'].type_as(params_type)\n",
    "        batch['backward']['masks'] = data['back_missing_mask'].type_as(params_type)\n",
    "        batch['backward']['deltas'] = data['back_deltas'].type_as(params_type)\n",
    "        batch['backward']['evals'] = data['X_ori'].flip(1).type_as(params_type)\n",
    "        batch['backward']['eval_masks'] = data['indicating_mask'].flip(1).type_as(params_type)\n",
    "\n",
    "        batch['is_train'] = torch.ones(len(batch['forward']['values']))\n",
    "        batch['labels'] = data['label'].long()\n",
    "\n",
    "        batch = to_var(batch)\n",
    "        \n",
    "        ret_ric = model_ric.run_on_batch(batch, optimizer=optimizer_ric)"
   ]
  }
 ],
 "metadata": {
  "kernelspec": {
   "display_name": "Python 3 (ipykernel)",
   "language": "python",
   "name": "python3"
  },
  "language_info": {
   "codemirror_mode": {
    "name": "ipython",
    "version": 3
   },
   "file_extension": ".py",
   "mimetype": "text/x-python",
   "name": "python",
   "nbconvert_exporter": "python",
   "pygments_lexer": "ipython3",
   "version": "3.12.0"
  }
 },
 "nbformat": 4,
 "nbformat_minor": 2
}
